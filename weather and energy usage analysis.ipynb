{
  "cells": [
    {
      "cell_type": "code",
      "source": [
        "import pandas as pd\n",
        "import random\n",
        "from datetime import datetime, timedelta\n",
        "\n",
        "# Parameters\n",
        "cities = [\"Lahore\", \"Karachi\", \"Islamabad\", \"Peshawar\", \"Quetta\"]\n",
        "start_date = datetime(2023, 1, 1)\n",
        "num_days = 200  # 200 days * 5 cities = 1000 rows per file\n",
        "\n",
        "dates = [start_date + timedelta(days=i) for i in range(num_days)]\n",
        "\n",
        "# Weather data\n",
        "weather_data = []\n",
        "for date in dates:\n",
        "    for city in cities:\n",
        "        t_min = random.randint(5, 20)\n",
        "        t_max = t_min + random.randint(5, 15)\n",
        "        precipitation = round(random.uniform(0, 20), 1) if random.random() < 0.3 else 0.0\n",
        "        wind_speed = round(random.uniform(5, 25), 1)\n",
        "        weather_data.append([date.strftime(\"%Y-%m-%d\"), city, t_max, t_min, precipitation, wind_speed])\n",
        "\n",
        "df_weather = pd.DataFrame(weather_data, columns=[\n",
        "    \"date\", \"city\", \"temperature_max\", \"temperature_min\", \"precipitation_mm\", \"wind_speed_kmph\"\n",
        "])\n",
        "df_weather.to_csv(\"weather_data.csv\", index=False)\n",
        "\n",
        "# Energy usage data\n",
        "energy_data = []\n",
        "for date in dates:\n",
        "    for city in cities:\n",
        "        res_kwh = random.randint(12000, 18000)\n",
        "        com_kwh = random.randint(6000, 12000)\n",
        "        ind_kwh = random.randint(10000, 16000)\n",
        "        energy_data.append([date.strftime(\"%Y-%m-%d\"), city, res_kwh, com_kwh, ind_kwh])\n",
        "\n",
        "df_energy = pd.DataFrame(energy_data, columns=[\n",
        "    \"date\", \"city\", \"residential_usage_kwh\", \"commercial_usage_kwh\", \"industrial_usage_kwh\"\n",
        "])\n",
        "df_energy.to_csv(\"energy_usage.csv\", index=False)\n",
        "\n",
        "print(\"✅ Files saved: weather_data.csv and energy_usage.csv\")\n"
      ],
      "metadata": {
        "colab": {
          "base_uri": "https://localhost:8080/"
        },
        "id": "yGrpTvDc70wU",
        "outputId": "d080c265-99a1-499f-b958-92f91dcf39d2"
      },
      "execution_count": 1,
      "outputs": [
        {
          "output_type": "stream",
          "name": "stdout",
          "text": [
            "✅ Files saved: weather_data.csv and energy_usage.csv\n"
          ]
        }
      ]
    },
    {
      "cell_type": "code",
      "source": [
        "#avg temp of each day\n",
        "import pandas as pd\n",
        "df=pd.read_csv(\"weather_data.csv\")\n",
        "df['avgtemp']=(df['temperature_max']+df['temperature_min'])/2\n",
        "print(df['avgtemp'].head(5))"
      ],
      "metadata": {
        "colab": {
          "base_uri": "https://localhost:8080/"
        },
        "id": "Cqpp3Ecz9r6C",
        "outputId": "132bb09f-3f11-4fa8-a0ed-38a0c026e7db"
      },
      "execution_count": 6,
      "outputs": [
        {
          "output_type": "stream",
          "name": "stdout",
          "text": [
            "0    18.5\n",
            "1    21.5\n",
            "2    15.5\n",
            "3    13.5\n",
            "4    17.0\n",
            "Name: avgtemp, dtype: float64\n"
          ]
        }
      ]
    },
    {
      "cell_type": "code",
      "source": [
        "# get hottest and coldest rows for each city\n",
        "import pandas as pd\n",
        "df = pd.read_csv('weather_data.csv')\n",
        "hotest = df.groupby('city')['temperature_max'].agg(['max'])\n",
        "coldrest = df.groupby('city')['temperature_min'].agg(['min'])\n",
        "print(hotest)\n",
        "print(coldrest)\n"
      ],
      "metadata": {
        "colab": {
          "base_uri": "https://localhost:8080/"
        },
        "id": "T1hB9aJUAkTa",
        "outputId": "e971e7bd-04a7-4a34-c19e-4d47c9ecbc1e"
      },
      "execution_count": 15,
      "outputs": [
        {
          "output_type": "stream",
          "name": "stdout",
          "text": [
            "           max\n",
            "city          \n",
            "Islamabad   35\n",
            "Karachi     35\n",
            "Lahore      35\n",
            "Peshawar    35\n",
            "Quetta      35\n",
            "           min\n",
            "city          \n",
            "Islamabad    5\n",
            "Karachi      5\n",
            "Lahore       5\n",
            "Peshawar     5\n",
            "Quetta       5\n"
          ]
        }
      ]
    },
    {
      "cell_type": "code",
      "source": [
        "# rainy days by cities\n",
        "import pandas as pd\n",
        "df = pd.read_csv('weather_data.csv')\n",
        "rainy_days = df[df['precipitation_mm'] > 0]\n",
        "rainy = rainy_days.groupby('city').size()\n",
        "print(rainy)\n"
      ],
      "metadata": {
        "colab": {
          "base_uri": "https://localhost:8080/"
        },
        "id": "O-NlaNO9MzG5",
        "outputId": "3a97dcd5-38e2-433a-8cf4-cee179eb912c"
      },
      "execution_count": 25,
      "outputs": [
        {
          "output_type": "stream",
          "name": "stdout",
          "text": [
            "city\n",
            "Islamabad    55\n",
            "Karachi      55\n",
            "Lahore       52\n",
            "Peshawar     54\n",
            "Quetta       60\n",
            "dtype: int64\n"
          ]
        }
      ]
    },
    {
      "cell_type": "code",
      "source": [
        "#Which city has the highest average wind speed?\n",
        "import pandas as pd\n",
        "df = pd.read_csv('weather_data.csv')\n",
        "highest_avg_wind = df.groupby('city')['wind_speed_kmph'].mean().sort_values(ascending=False).head(1)\n",
        "\n",
        "print(highest_avg_wind)"
      ],
      "metadata": {
        "colab": {
          "base_uri": "https://localhost:8080/"
        },
        "id": "Dt30FVQaOKwi",
        "outputId": "b4a9fa41-e5e6-439a-943f-e14d88f27d8e"
      },
      "execution_count": 30,
      "outputs": [
        {
          "output_type": "stream",
          "name": "stdout",
          "text": [
            "city\n",
            "Lahore    15.382\n",
            "Name: wind_speed_kmph, dtype: float64\n"
          ]
        }
      ]
    },
    {
      "cell_type": "code",
      "source": [
        "#What is the total energy usage (res + com + ind) per city?\n",
        "import pandas as pd\n",
        "df=pd.read_csv('weather_data.csv')\n",
        "dff=pd.read_csv('energy_usage.csv')\n",
        "dff['total']=dff['residential_usage_kwh']+dff['commercial_usage_kwh']+dff['industrial_usage_kwh']\n",
        "energyt=dff.groupby('city')['total'].sum()\n",
        "print(energyt)"
      ],
      "metadata": {
        "id": "coBAq7CtTyRD",
        "outputId": "226d3028-21d4-4615-bbb5-03ff8f66876d",
        "colab": {
          "base_uri": "https://localhost:8080/"
        }
      },
      "execution_count": 38,
      "outputs": [
        {
          "output_type": "stream",
          "name": "stdout",
          "text": [
            "city\n",
            "Islamabad    7388859\n",
            "Karachi      7416265\n",
            "Lahore       7436577\n",
            "Peshawar     7402353\n",
            "Quetta       7388768\n",
            "Name: total, dtype: int64\n"
          ]
        }
      ]
    },
    {
      "cell_type": "code",
      "source": [
        "#Which day had the highest total energy usage (res + com + ind) in Lahore?\n",
        "import pandas as pd\n",
        "df=pd.read_csv('energy_usage.csv')\n",
        "df['date']=pd.to_datetime(df['date'])\n",
        "df['day']=df['date'].dt.to_period('D')\n",
        "df=df[df['city']=='Lahore']\n",
        "df['total']=df['residential_usage_kwh']+df['commercial_usage_kwh']+df['industrial_usage_kwh']\n",
        "ht=df.groupby(['day','city'])['total'].sum().sort_values(ascending=False).head(1)\n",
        "print(ht)"
      ],
      "metadata": {
        "id": "gsxnALj5UBIu",
        "outputId": "03b7a89e-186b-41a6-efa1-4fa36003dd26",
        "colab": {
          "base_uri": "https://localhost:8080/"
        }
      },
      "execution_count": 45,
      "outputs": [
        {
          "output_type": "stream",
          "name": "stdout",
          "text": [
            "day         city  \n",
            "2023-06-23  Lahore    44159\n",
            "Name: total, dtype: int64\n"
          ]
        }
      ]
    },
    {
      "cell_type": "code",
      "source": [
        "#How many days had temperature_min below 10°C in each city?\n",
        "\n",
        "import pandas as pd\n",
        "df=pd.read_csv('weather_data.csv')\n",
        "df['date']=pd.to_datetime(df['date'])\n",
        "df['day']=df['date'].dt.to_period('D')\n",
        "df=df[df['temperature_min']<10]\n",
        "ht=df.groupby(['city','day'])['temperature_min'].size()\n",
        "print(ht)"
      ],
      "metadata": {
        "id": "TNR6Q_3ZZB_L",
        "outputId": "a27591fa-2ac5-40ca-bbc4-8a98d5cd17f0",
        "colab": {
          "base_uri": "https://localhost:8080/"
        }
      },
      "execution_count": 50,
      "outputs": [
        {
          "output_type": "stream",
          "name": "stdout",
          "text": [
            "city       day       \n",
            "Islamabad  2023-01-01    1\n",
            "           2023-01-05    1\n",
            "           2023-01-09    1\n",
            "           2023-01-13    1\n",
            "           2023-01-14    1\n",
            "                        ..\n",
            "Quetta     2023-06-29    1\n",
            "           2023-07-06    1\n",
            "           2023-07-13    1\n",
            "           2023-07-17    1\n",
            "           2023-07-18    1\n",
            "Name: temperature_min, Length: 320, dtype: int64\n"
          ]
        }
      ]
    },
    {
      "cell_type": "code",
      "source": [
        "#What is the total energy consumption across all cities for the dataset?\n",
        "import pandas as pd\n",
        "df=pd.read_csv('energy_usage.csv')\n",
        "df['total']=df['residential_usage_kwh'].sum()+df['commercial_usage_kwh'].sum()+df['industrial_usage_kwh']\n",
        "et=df.groupby('city')['total'].sum()\n",
        "print(et)\n",
        "#"
      ],
      "metadata": {
        "id": "_J6-WhRxau34",
        "outputId": "96b046ea-696a-47f6-d4a4-f99484771e5b",
        "colab": {
          "base_uri": "https://localhost:8080/"
        }
      },
      "execution_count": 51,
      "outputs": [
        {
          "output_type": "stream",
          "name": "stdout",
          "text": [
            "city\n",
            "Islamabad    4799886209\n",
            "Karachi      4799918160\n",
            "Lahore       4799932753\n",
            "Peshawar     4799895151\n",
            "Quetta       4799917046\n",
            "Name: total, dtype: int64\n"
          ]
        }
      ]
    },
    {
      "cell_type": "code",
      "source": [
        "#On which days did all cities experience zero precipitation?\n",
        "\n",
        "import pandas as pd\n",
        "df=pd.read_csv('weather_data.csv')\n",
        "df['date']=pd.to_datetime(df['date'])\n",
        "df['day']=df['date'].dt.to_period('D')\n",
        "df=df[df['precipitation_mm']==0]\n",
        "ht=df.groupby(['city','day'])['precipitation_mm'].size()\n",
        "print(ht)"
      ],
      "metadata": {
        "id": "SrXpthRqbJKr",
        "outputId": "50deed86-2673-4c93-f990-ef829c7125bd",
        "colab": {
          "base_uri": "https://localhost:8080/"
        }
      },
      "execution_count": 52,
      "outputs": [
        {
          "output_type": "stream",
          "name": "stdout",
          "text": [
            "city       day       \n",
            "Islamabad  2023-01-01    1\n",
            "           2023-01-02    1\n",
            "           2023-01-03    1\n",
            "           2023-01-04    1\n",
            "           2023-01-05    1\n",
            "                        ..\n",
            "Quetta     2023-07-12    1\n",
            "           2023-07-13    1\n",
            "           2023-07-14    1\n",
            "           2023-07-15    1\n",
            "           2023-07-16    1\n",
            "Name: precipitation_mm, Length: 724, dtype: int64\n"
          ]
        }
      ]
    },
    {
      "cell_type": "markdown",
      "source": [
        "intermidiate"
      ],
      "metadata": {
        "id": "2-HVLWStcOqj"
      }
    },
    {
      "cell_type": "code",
      "source": [
        "#Merge both datasets and calculate the average energy usage on rainy vs non-rainy days\n",
        "import pandas as pd\n",
        "dt=pd.read_csv('weather_data.csv')\n",
        "dff=pd.read_csv('energy_usage.csv')\n",
        "df=pd.merge(df,dff,on=['city','date'])\n",
        "df['rainyday']=df['precipitation_mm'].apply(lambda x:'rainy'if x>0 else 'non-rainy')\n",
        "df['total']=df['residential_usage_kwh']+df['commercial_usage_kwh']+df['industrial_usage_kwh']\n",
        "ht=df.groupby(['rainyday'])['total'].mean()\n",
        "print(ht)\n",
        "\n"
      ],
      "metadata": {
        "id": "4fqI2HLtcQjg",
        "outputId": "0ba818b6-9b6a-433c-d995-26c8ad40da39",
        "colab": {
          "base_uri": "https://localhost:8080/"
        }
      },
      "execution_count": 56,
      "outputs": [
        {
          "output_type": "stream",
          "name": "stdout",
          "text": [
            "rainyday\n",
            "non-rainy    36993.669890\n",
            "rainy        37135.525362\n",
            "Name: total, dtype: float64\n"
          ]
        }
      ]
    },
    {
      "cell_type": "code",
      "source": [
        "import pandas as pd\n",
        "weather = pd.read_csv('weather_data.csv')\n",
        "energy = pd.read_csv('energy_usage.csv')\n",
        "df = pd.merge(weather, energy, on=['city', 'date'])\n",
        "df['avg_temp'] = (df['temperature_max'] + df['temperature_min']) / 2\n",
        "correlations = df.groupby('city').apply(lambda x: x['avg_temp'].corr(x['residential_usage_kwh']))\n",
        "print(correlations)\n"
      ],
      "metadata": {
        "id": "Rw6yfAffpF3B",
        "outputId": "1173d598-3107-40f2-f555-42ca43336f27",
        "colab": {
          "base_uri": "https://localhost:8080/"
        }
      },
      "execution_count": 58,
      "outputs": [
        {
          "output_type": "stream",
          "name": "stdout",
          "text": [
            "city\n",
            "Islamabad    0.054544\n",
            "Karachi     -0.056048\n",
            "Lahore      -0.213809\n",
            "Peshawar     0.049876\n",
            "Quetta      -0.176788\n",
            "dtype: float64\n"
          ]
        },
        {
          "output_type": "stream",
          "name": "stderr",
          "text": [
            "/tmp/ipython-input-722497242.py:6: DeprecationWarning: DataFrameGroupBy.apply operated on the grouping columns. This behavior is deprecated, and in a future version of pandas the grouping columns will be excluded from the operation. Either pass `include_groups=False` to exclude the groupings or explicitly select the grouping columns after groupby to silence this warning.\n",
            "  correlations = df.groupby('city').apply(lambda x: x['avg_temp'].corr(x['residential_usage_kwh']))\n"
          ]
        }
      ]
    },
    {
      "cell_type": "code",
      "source": [
        "#Show 7-day rolling averages of residential energy usage for Karachi.\n",
        "import pandas as pd\n",
        "df=pd.read_csv('energy_usage.csv')\n",
        "df['date']=pd.to_datetime(df['date'])\n",
        "df['day']=df['date'].dt.to_period('D')\n",
        "df=df[df['city']=='Karachi']\n",
        "df['residential_usage_kwh']=df['residential_usage_kwh'].rolling(window=7).mean()\n",
        "print(df['residential_usage_kwh'])"
      ],
      "metadata": {
        "id": "CuLnKAowylVx",
        "outputId": "9e0912e8-3197-4292-9a49-c8590dccc0e0",
        "colab": {
          "base_uri": "https://localhost:8080/"
        }
      },
      "execution_count": 60,
      "outputs": [
        {
          "output_type": "stream",
          "name": "stdout",
          "text": [
            "1               NaN\n",
            "6               NaN\n",
            "11              NaN\n",
            "16              NaN\n",
            "21              NaN\n",
            "           ...     \n",
            "976    14820.714286\n",
            "981    14277.857143\n",
            "986    14726.571429\n",
            "991    14839.000000\n",
            "996    14911.428571\n",
            "Name: residential_usage_kwh, Length: 200, dtype: float64\n"
          ]
        }
      ]
    },
    {
      "cell_type": "code",
      "source": [
        "import pandas as pd\n",
        "df=pd.read_csv('energy_usage.csv')\n",
        "df['date']=pd.to_datetime(df['date'])\n",
        "df['day']=df['date'].dt.to_period('D')\n",
        "df=df[df['city']=='Islamabad']\n",
        "df=df.groupby('day')['commercial_usage_kwh'].sum().sort_values(ascending=False).head(5)\n",
        "print(df)"
      ],
      "metadata": {
        "id": "o-u9QJLl16Kq",
        "outputId": "13b32447-9a1e-4efa-e39a-e621518303cc",
        "colab": {
          "base_uri": "https://localhost:8080/"
        }
      },
      "execution_count": 61,
      "outputs": [
        {
          "output_type": "stream",
          "name": "stdout",
          "text": [
            "day\n",
            "2023-05-25    11998\n",
            "2023-04-04    11975\n",
            "2023-03-09    11966\n",
            "2023-01-07    11907\n",
            "2023-04-07    11871\n",
            "Freq: D, Name: commercial_usage_kwh, dtype: int64\n"
          ]
        }
      ]
    },
    {
      "cell_type": "code",
      "source": [
        "#Which city had the largest fluctuation in daily wind speed? (max - min)\n",
        "import pandas as pd\n",
        "df=pd.read_csv('weather_data.csv')\n",
        "df=df.groupby('city')['wind_speed_kmph'].agg(['max','min'])\n",
        "df['fluctuation']=df['max']-df['min']\n",
        "print(df['fluctuation'].sort_values(ascending=False).head(1))\n"
      ],
      "metadata": {
        "id": "BfoW3XGL3HJg",
        "outputId": "2dd149d5-1cf3-40fb-db76-e83e8df26301",
        "colab": {
          "base_uri": "https://localhost:8080/"
        }
      },
      "execution_count": 62,
      "outputs": [
        {
          "output_type": "stream",
          "name": "stdout",
          "text": [
            "city\n",
            "Islamabad    20.0\n",
            "Name: fluctuation, dtype: float64\n"
          ]
        }
      ]
    },
    {
      "cell_type": "code",
      "source": [
        "#Find the total energy usage for each city grouped by month.\n",
        "import pandas as pd\n",
        "df=pd.read_csv('energy_usage.csv')\n",
        "df['date']=pd.to_datetime(df['date'])\n",
        "df['months']=df['date'].dt.to_period('M')\n",
        "df['total_energy']=df['residential_usage_kwh']+df['commercial_usage_kwh']+df['industrial_usage_kwh']\n",
        "dff=df.groupby(['months','city'])['total_energy'].sum()\n",
        "print(dff)\n"
      ],
      "metadata": {
        "id": "KnUUMUuZ6Kru",
        "outputId": "e5a2c7c8-70a6-4cbc-def2-e9c0b33c4da7",
        "colab": {
          "base_uri": "https://localhost:8080/"
        }
      },
      "execution_count": 65,
      "outputs": [
        {
          "output_type": "stream",
          "name": "stdout",
          "text": [
            "months   city     \n",
            "2023-01  Islamabad    1166538\n",
            "         Karachi      1140410\n",
            "         Lahore       1124131\n",
            "         Peshawar     1119593\n",
            "         Quetta       1170301\n",
            "2023-02  Islamabad    1049191\n",
            "         Karachi      1016408\n",
            "         Lahore       1024136\n",
            "         Peshawar     1046211\n",
            "         Quetta       1030019\n",
            "2023-03  Islamabad    1131797\n",
            "         Karachi      1147880\n",
            "         Lahore       1164740\n",
            "         Peshawar     1182657\n",
            "         Quetta       1148432\n",
            "2023-04  Islamabad    1095601\n",
            "         Karachi      1091869\n",
            "         Lahore       1117730\n",
            "         Peshawar     1117435\n",
            "         Quetta       1116411\n",
            "2023-05  Islamabad    1157710\n",
            "         Karachi      1137922\n",
            "         Lahore       1161788\n",
            "         Peshawar     1146102\n",
            "         Quetta       1158286\n",
            "2023-06  Islamabad    1099327\n",
            "         Karachi      1142603\n",
            "         Lahore       1140771\n",
            "         Peshawar     1095411\n",
            "         Quetta       1072286\n",
            "2023-07  Islamabad     688695\n",
            "         Karachi       739173\n",
            "         Lahore        703281\n",
            "         Peshawar      694944\n",
            "         Quetta        693033\n",
            "Name: total_energy, dtype: int64\n"
          ]
        }
      ]
    }
  ],
  "metadata": {
    "colab": {
      "name": "Welcome to Colab",
      "provenance": []
    },
    "kernelspec": {
      "display_name": "Python 3",
      "name": "python3"
    }
  },
  "nbformat": 4,
  "nbformat_minor": 0
}